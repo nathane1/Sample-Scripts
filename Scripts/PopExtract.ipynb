{
 "cells": [
  {
   "cell_type": "code",
   "execution_count": null,
   "metadata": {},
   "outputs": [],
   "source": [
    "# Script to extract population categories for specific storm reports"
   ]
  },
  {
   "cell_type": "code",
   "execution_count": null,
   "metadata": {},
   "outputs": [],
   "source": [
    "# Import necessary modules\n",
    "import numpy as np\n",
    "from scipy.spatial import KDTree\n",
    "import pandas as pd\n",
    "import xarray as xr\n",
    "import geopandas as gpd\n",
    "import geojson as gj\n",
    "from shapely.geometry import shape\n",
    "import time"
   ]
  },
  {
   "cell_type": "code",
   "execution_count": null,
   "metadata": {},
   "outputs": [],
   "source": [
    "# Read in the population dataset\n",
    "pop_data = xr.open_dataset('/chinook2/nathane1/research/landuse/landscan2017.nc')\n",
    "pop_data"
   ]
  },
  {
   "cell_type": "code",
   "execution_count": null,
   "metadata": {},
   "outputs": [],
   "source": [
    "# Clip the population dataset to allow for stacking of lat/lon arrays\n",
    "\n",
    "geometry = '''{\"type\": \"polygon\",\n",
    "                    \"coordinates\": [\n",
    "                    [\n",
    "                    [-125, 0],\n",
    "                    [-70, 0],\n",
    "                    [-70, 55],\n",
    "                    [-125, 55],\n",
    "                    [-125, 0]\n",
    "                    ]\n",
    "                ]\n",
    "                }'''\n",
    "min_x, min_y, max_x, max_y = shape(gj.loads(geometry)).bounds\n",
    "meso = pop_data.where((pop_data.lon<=max_x) & (pop_data.lon>=min_x) & (pop_data.lat<=max_y) & (pop_data.lat>=min_y), drop=True)\n",
    "meso"
   ]
  },
  {
   "cell_type": "code",
   "execution_count": null,
   "metadata": {},
   "outputs": [],
   "source": [
    "# Convert the population dataset to a dataframe for easier lookups \n",
    "\n",
    "pop_frame = meso.to_dataframe()\n",
    "pop_frame = pop_frame.reset_index()\n",
    "pop_frame"
   ]
  },
  {
   "cell_type": "code",
   "execution_count": null,
   "metadata": {},
   "outputs": [],
   "source": [
    "# Stack arrays to build kd-tree\n",
    "\n",
    "meso_lat = meso.lat\n",
    "meso_lon = meso.lon\n",
    "mesh_lat,mesh_lon = np.meshgrid(meso_lat,meso_lon)\n",
    "mesh_grid = np.dstack((mesh_lat,mesh_lon))\n",
    "mesh_grid.shape"
   ]
  },
  {
   "cell_type": "code",
   "execution_count": null,
   "metadata": {},
   "outputs": [],
   "source": [
    "# Reshape grid into two dimensional arrays\n",
    "\n",
    "grid_two = mesh_grid.reshape(43560000,2)\n",
    "grid_two"
   ]
  },
  {
   "cell_type": "code",
   "execution_count": null,
   "metadata": {},
   "outputs": [],
   "source": [
    "# Build a kd-tree (WARNING: Very long runtime, only run this once per session)\n",
    "mytree = KDTree(grid_two)"
   ]
  },
  {
   "cell_type": "code",
   "execution_count": null,
   "metadata": {},
   "outputs": [],
   "source": [
    "# Read in storm report csv; tack on a new column for writing population data\n",
    "storm_csv = pd.read_csv('/home/nathane1/research/EnvironmentalData/MSRs/2019MSRs.csv')\n",
    "storm_frame = pd.DataFrame(data = storm_csv)\n",
    "storm_set = xr.Dataset.from_dataframe(storm_frame)\n",
    "storm_csv['avg_pop'] = ''\n",
    "storm_csv"
   ]
  },
  {
   "cell_type": "code",
   "execution_count": null,
   "metadata": {},
   "outputs": [],
   "source": [
    "# Stack storm file arrays\n",
    "storm_lat = storm_set['location_1_lat'] #Change these back and forth between estimate and measured sets as needed\n",
    "storm_lon = storm_set['location_1_lon']\n",
    "storm_grid = np.dstack([storm_lat,storm_lon])[0]"
   ]
  },
  {
   "cell_type": "code",
   "execution_count": null,
   "metadata": {},
   "outputs": [],
   "source": [
    "# Initialize variables for use in the following function\n",
    "\n",
    "step = 0.0083333334 # <- Initialize the step to be used to get a spatially-averaged population\n",
    "pop_list = [] # <- Set up an empty list for appending average population values"
   ]
  },
  {
   "cell_type": "code",
   "execution_count": null,
   "metadata": {},
   "outputs": [],
   "source": [
    "#Define a function to match points to the kd-tree; test that function\n",
    "\n",
    "def run_kdtree(storm_grid):\n",
    "    distance, indexes = mytree.query(storm_grid) # <- Specifies the distance from the reference point and the index number of that point\n",
    "    match_lat = grid_two[indexes][0]\n",
    "    match_lon = grid_two[indexes][1] # <- These two lines pair the first and second elements, respectively, of the index point, to new variables\n",
    "    min_lat = match_lat - 2 * step\n",
    "    max_lat = match_lat + 2 * step\n",
    "    min_lon = match_lon - 2 * step\n",
    "    max_lon = match_lon + 2 * step # <- These lines specify the range of latitudes and longitudes for the 5x5 grid\n",
    "    pop_index = pop_frame.loc[(pop_frame['lat'].between(min_lat,max_lat)) & (pop_frame['lon'].between(min_lon,max_lon))].index # <- Find the instances in the dataframe within this range of matching latitudes\n",
    "    pop_cat = pop_frame['Band1'][pop_index] # <- Find the corresponding average population over the grid \n",
    "    average_pop = np.average(pop_cat) # <- Take the average of the population across each grid cell\n",
    "    pop_list.append(average_pop) # <- Append the average population to the list defined above\n",
    "    #print('Average population in 5 x 5 km grid is:', average_pop)\n",
    "    return distance, indexes, pop_cat, pop_index, average_pop # Return various interest variables"
   ]
  },
  {
   "cell_type": "code",
   "execution_count": null,
   "metadata": {},
   "outputs": [],
   "source": [
    "# Iteratively run the kd-tree function to find nearest neighbors for storm reports; append the land use category of the nearest lat/lon pair\n",
    "\n",
    "start_time = time.time()\n",
    "\n",
    "for event in storm_grid:\n",
    "    run_kdtree(event)\n",
    "storm_csv['avg_pop'] = pop_list\n",
    "storm_csv.to_csv('/home/nathane1/research/EnvironmentalData/MSRs_with_pop/2019MSR_WithPop.csv')\n",
    "print('Program complete!')\n",
    "print('Took --- %s seconds ---' %(time.time() - start_time))"
   ]
  },
  {
   "cell_type": "code",
   "execution_count": null,
   "metadata": {},
   "outputs": [],
   "source": []
  }
 ],
 "metadata": {
  "kernelspec": {
   "display_name": "Python 3",
   "language": "python",
   "name": "python3"
  },
  "language_info": {
   "codemirror_mode": {
    "name": "ipython",
    "version": 3
   },
   "file_extension": ".py",
   "mimetype": "text/x-python",
   "name": "python",
   "nbconvert_exporter": "python",
   "pygments_lexer": "ipython3",
   "version": "3.8.6"
  }
 },
 "nbformat": 4,
 "nbformat_minor": 4
}
