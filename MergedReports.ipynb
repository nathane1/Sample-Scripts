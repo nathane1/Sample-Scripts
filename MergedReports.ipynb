{
 "cells": [
  {
   "cell_type": "code",
   "execution_count": 1,
   "metadata": {},
   "outputs": [],
   "source": [
    "# Script to merge ASOS/AWOS reports with measured reports for 2007-2018"
   ]
  },
  {
   "cell_type": "code",
   "execution_count": 2,
   "metadata": {},
   "outputs": [],
   "source": [
    "# Import modules\n",
    "\n",
    "import pandas as pd\n",
    "import numpy as np\n",
    "from scipy.spatial import KDTree\n",
    "from datetime import datetime\n",
    "import time"
   ]
  },
  {
   "cell_type": "code",
   "execution_count": 19,
   "metadata": {},
   "outputs": [],
   "source": [
    "# Open up the measured reports and the ASOS/AWOS reports as CSV's\n",
    "\n",
    "measured = pd.read_csv('/home/nathane1/research/EnvironmentalData/SRs_WithElev+Pop/2019SR_WithPop')\n",
    "measured['UTC_begin_time'] = pd.to_datetime(measured.UTC_begin_time)\n",
    "\n",
    "dot = pd.read_csv('/home/nathane1/research/EnvironmentalData/CertainDOT.csv')\n",
    "dot['Observation_Time'] = pd.to_datetime(dot.Observation_Time)"
   ]
  },
  {
   "cell_type": "code",
   "execution_count": null,
   "metadata": {},
   "outputs": [],
   "source": [
    "# Print the measured dataset as a reference\n",
    "measured"
   ]
  },
  {
   "cell_type": "code",
   "execution_count": null,
   "metadata": {},
   "outputs": [],
   "source": [
    "# Print the automated dataset as a reference\n",
    "dot"
   ]
  },
  {
   "cell_type": "code",
   "execution_count": 10,
   "metadata": {},
   "outputs": [],
   "source": [
    "# Create data structures for kd-tree\n",
    "\n",
    "measured_lat = measured['location_1_lat']\n",
    "measured_lon = measured['location_1_lon']\n",
    "measured_grid = [measured_lat,measured_lon]\n",
    "measured_grid = np.array(measured_grid)\n",
    "measured_grid = measured_grid.transpose()\n",
    "\n",
    "dot_lat = dot['Latitude']\n",
    "dot_lon = dot['Longitude']\n",
    "dot_grid = [dot_lat,dot_lon]\n",
    "dot_grid = np.array(dot_grid)\n",
    "dot_grid = dot_grid.transpose()"
   ]
  },
  {
   "cell_type": "code",
   "execution_count": null,
   "metadata": {},
   "outputs": [],
   "source": [
    "# Create data structures for time matching\n",
    "\n",
    "measured_time = measured['UTC_begin_time']\n",
    "\n",
    "dot_time = dot['Observation_Time']\n",
    "dot_time"
   ]
  },
  {
   "cell_type": "code",
   "execution_count": 12,
   "metadata": {},
   "outputs": [],
   "source": [
    "# Create a kdtree\n",
    "\n",
    "mytree = KDTree(measured_grid)"
   ]
  },
  {
   "cell_type": "code",
   "execution_count": 13,
   "metadata": {},
   "outputs": [],
   "source": [
    "# Set up the kdtree function and the time matching function\n",
    "\n",
    "def kdtree_match(auto_grid):\n",
    "    global distance\n",
    "    global indexes\n",
    "    distance, indexes = mytree.query(auto_grid) # <- Specifies the distance from the reference point and the index number of that point\n",
    "    return distance, indexes\n",
    "\n",
    "def time_match(auto_time,measured_time):\n",
    "    global time_del\n",
    "    index_time = measured_time[indexes]\n",
    "    datetime_time = auto_time.to_pydatetime()\n",
    "    datetime_match = index_time.to_pydatetime() # <- Convert the two times selected from above to datetime objects\n",
    "    parsed_time = datetime.strptime(str(datetime_time), '%Y-%m-%d %H:%M:%S') \n",
    "    parsed_match = datetime.strptime(str(datetime_match), '%Y-%m-%d %H:%M:%S') # <- Convert the datetime objects to parsed strings\n",
    "    time_del = abs(parsed_time - parsed_match) # <- Find the difference between the two times \n",
    "    time_del = time_del.total_seconds() # <- Return the difference between the times in the integer number of seconds\n",
    "    return time_del"
   ]
  },
  {
   "cell_type": "code",
   "execution_count": 21,
   "metadata": {},
   "outputs": [],
   "source": [
    "# Define a function to check whether or not automated event needs to be appended\n",
    "\n",
    "def event_in_spacetime(automated_events):\n",
    "    event_index = 0\n",
    "    for event in dot_grid:\n",
    "        kdtree_match(event)\n",
    "        time_match(dot_time[event_index],measured_time)\n",
    "        if ((distance < 0.05) & (time_del < 600.0)):\n",
    "            continue\n",
    "        else:\n",
    "            measured.loc[len(measured.index) + 1] = {'Unnamed: 0': len(measured.index) + 1, 'event_id': dot['Station_ID'][event_index],'magnitude': dot['Wind_Gust'][event_index], \n",
    "                                                     'magnitude_type': 'MG', 'location_1_lat': dot['Latitude'][event_index], 'location_1_lon': dot['Longitude'][event_index], 'wfo':'NA', \n",
    "                                                     'UTC_begin_time': dot['Observation_Time'][event_index], 'UTC_end_time': dot['Observation_Time'][event_index], 'delta_time': 0, \n",
    "                                                     'event_narrative':'NA', 'episode_narrative': 'NA', 'elevation_m': 'NA', 'avg_pop': 'NA'}\n",
    "        event_index += 1    \n",
    "    print(measured)"
   ]
  },
  {
   "cell_type": "code",
   "execution_count": 22,
   "metadata": {},
   "outputs": [
    {
     "name": "stdout",
     "output_type": "stream",
     "text": [
      "      Unnamed: 0 event_id  magnitude magnitude_type  location_1_lat  \\\n",
      "0              0   861581    58.0000             MG       32.710000   \n",
      "1              1   861584    56.0000             MG       32.870000   \n",
      "2              2   861582    65.0000             MG       32.800000   \n",
      "3              3   849004    52.0000             MG       45.930000   \n",
      "4              4   848193    54.0000             MG       47.020000   \n",
      "...          ...      ...        ...            ...             ...   \n",
      "2275        2275    RPLI4    57.2355             MG       41.391972   \n",
      "2276        2276    RQCI4    61.5551             MG       41.517100   \n",
      "2277        2277    RDAI4    51.8359             MG       41.496333   \n",
      "2278        2278    RCDI4    60.4752             MG       41.978000   \n",
      "2279        2279    RCDI4    65.8748             MG       41.978000   \n",
      "\n",
      "      location_1_lon  wfo      UTC_begin_time         UTC_end_time  \\\n",
      "0         -95.880000  FWD 2019-10-21 04:23:00      10/21/2019 4:23   \n",
      "1         -97.610000  FWD 2019-10-21 05:12:00      10/21/2019 5:12   \n",
      "2         -98.100000  FWD 2019-10-21 04:36:00      10/21/2019 4:36   \n",
      "3        -104.440000  BYZ 2019-09-01 22:25:00       9/1/2019 22:25   \n",
      "4        -104.330000  GGW 2019-09-18 01:20:00       9/18/2019 1:20   \n",
      "...              ...  ...                 ...                  ...   \n",
      "2275      -92.871448   NA 2019-07-20 23:21:00  2019-07-20 23:21:00   \n",
      "2276      -90.513100   NA 2019-08-06 05:00:00  2019-08-06 05:00:00   \n",
      "2277      -94.726300   NA 2019-08-20 10:20:00  2019-08-20 10:20:00   \n",
      "2278      -91.674500   NA 2019-04-22 20:50:00  2019-04-22 20:50:00   \n",
      "2279      -91.674500   NA 2019-06-28 14:30:00  2019-06-28 14:30:00   \n",
      "\n",
      "      delta_time_min                                    event_narrative  \\\n",
      "0                0.0  A trained spotter measured a wind gust of 67 M...   \n",
      "1                0.0  The local police department reported a wind gu...   \n",
      "2                0.0  A wind gust of 75 MPH was measured by the Auto...   \n",
      "3                0.0                         Tree branches were broken.   \n",
      "4                0.0  A 62 mph wind gust was recorded at the Beaver ...   \n",
      "...              ...                                                ...   \n",
      "2275             NaN                                                 NA   \n",
      "2276             NaN                                                 NA   \n",
      "2277             NaN                                                 NA   \n",
      "2278             NaN                                                 NA   \n",
      "2279             NaN                                                 NA   \n",
      "\n",
      "                                      episode_narrative elevation_m avg_pop  \n",
      "0     Thunderstorms erupted across the DFW Metroplex...      127.74   79.68  \n",
      "1     Thunderstorms erupted across the DFW Metroplex...      288.98   51.76  \n",
      "2     Thunderstorms erupted across the DFW Metroplex...      270.75  514.48  \n",
      "3     A severe thunderstorm over portions of southea...     1048.69    0.04  \n",
      "4     A small, but compact storm system moving throu...      844.76    0.04  \n",
      "...                                                 ...         ...     ...  \n",
      "2275                                                 NA          NA      NA  \n",
      "2276                                                 NA          NA      NA  \n",
      "2277                                                 NA          NA      NA  \n",
      "2278                                                 NA          NA      NA  \n",
      "2279                                                 NA          NA      NA  \n",
      "\n",
      "[2279 rows x 14 columns]\n",
      "Program complete!\n",
      "Took --- 0.19944357872009277 seconds ---\n"
     ]
    }
   ],
   "source": [
    "# Loop through records in each dataset to find events to be added\n",
    "\n",
    "start_time = time.time()\n",
    "event_in_spacetime(dot_grid)\n",
    "print('Program complete!')\n",
    "print('Took --- %s seconds ---' %(time.time() - start_time))"
   ]
  },
  {
   "cell_type": "code",
   "execution_count": 23,
   "metadata": {},
   "outputs": [],
   "source": [
    "# Export the new dataset to a CSV\n",
    "\n",
    "measured.to_csv('/home/nathane1/research/EnvironmentalData/MSRs/2019MSRs.csv')"
   ]
  },
  {
   "cell_type": "code",
   "execution_count": null,
   "metadata": {},
   "outputs": [],
   "source": []
  }
 ],
 "metadata": {
  "kernelspec": {
   "display_name": "Python 3",
   "language": "python",
   "name": "python3"
  },
  "language_info": {
   "codemirror_mode": {
    "name": "ipython",
    "version": 3
   },
   "file_extension": ".py",
   "mimetype": "text/x-python",
   "name": "python",
   "nbconvert_exporter": "python",
   "pygments_lexer": "ipython3",
   "version": "3.8.6"
  }
 },
 "nbformat": 4,
 "nbformat_minor": 4
}
